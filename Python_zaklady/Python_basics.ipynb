{
 "cells": [
  {
   "cell_type": "markdown",
   "metadata": {},
   "source": [
    "Tak tady si budu psát své první kódy\n",
    "\n",
    "Navíc to slouží pro ověření, že je vše funkční -  projekt Solid_waffle"
   ]
  },
  {
   "cell_type": "code",
   "execution_count": null,
   "metadata": {
    "vscode": {
     "languageId": "plaintext"
    }
   },
   "outputs": [],
   "source": [
    "jjmeno = input(\"Zadej jméno\")\n",
    "# tohle tam nedávej - type(jjmeno)\n",
    "# tohle tam nedávej - print (jjmeno)\n",
    "\n",
    "delka = len(jjmeno)\n",
    "#opět je tohle dost zbytečné - print(delka)\n",
    "\n",
    "if delka == 0:\n",
    "  print (\"jméno nezadáno\")\n",
    "elif delka < 5:\n",
    "  print (\"nemáš dost dlouhé jméno\")\n",
    "else:\n",
    "  print (f\"Ok, díky. Vaše zadané jméno je: {jjmeno}\")"
   ]
  },
  {
   "cell_type": "code",
   "execution_count": null,
   "metadata": {
    "vscode": {
     "languageId": "plaintext"
    }
   },
   "outputs": [],
   "source": [
    "print(\"Test\")"
   ]
  },
  {
   "cell_type": "code",
   "execution_count": null,
   "metadata": {
    "vscode": {
     "languageId": "plaintext"
    }
   },
   "outputs": [],
   "source": []
  }
 ],
 "metadata": {
  "language_info": {
   "name": "python"
  }
 },
 "nbformat": 4,
 "nbformat_minor": 2
}
