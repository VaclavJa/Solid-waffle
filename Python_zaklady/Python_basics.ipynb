{
 "cells": [
  {
   "cell_type": "markdown",
   "metadata": {},
   "source": [
    "Tak tady si budu psát své první kódy\n",
    "\n",
    "Navíc to slouží pro ověření, že je vše funkční -  projekt Solid_waffle"
   ]
  },
  {
   "cell_type": "code",
   "execution_count": 7,
   "metadata": {},
   "outputs": [
    {
     "name": "stdout",
     "output_type": "stream",
     "text": [
      "nemáš dost dlouhé jméno, protože -fs- není jméno\n"
     ]
    }
   ],
   "source": [
    "jjmeno = input(\"Zadej jméno\")\n",
    "# tohle tam nedávej - type(jjmeno)\n",
    "# tohle tam nedávej - print (jjmeno)\n",
    "\n",
    "delka = len(jjmeno)\n",
    "#opět je tohle dost zbytečné - print(delka)\n",
    "\n",
    "if delka == 0:\n",
    "  print (\"jméno nezadáno\")\n",
    "elif delka < 5:\n",
    "  print (f\"nemáš dost dlouhé jméno, protože -{jjmeno}- není jméno\")\n",
    "else:\n",
    "  print (f\"Ok, díky. Vaše zadané jméno je: {jjmeno}\")"
   ]
  },
  {
   "cell_type": "code",
   "execution_count": 1,
   "metadata": {},
   "outputs": [
    {
     "name": "stdout",
     "output_type": "stream",
     "text": [
      "Test\n"
     ]
    }
   ],
   "source": [
    "print(\"Test\")"
   ]
  },
  {
   "cell_type": "code",
   "execution_count": 11,
   "metadata": {},
   "outputs": [
    {
     "name": "stdout",
     "output_type": "stream",
     "text": [
      "['Praha', 'Brno', 'Jihlava', 'Ostrava', 'Plzeň']\n",
      "['Brno', 'Jihlava', 'Ostrava', 'Plzeň', 'Praha', 'Písek', 'Vyškov']\n",
      "['Jihlava', 'Plzeň', 'Písek']\n"
     ]
    }
   ],
   "source": [
    "mesta = [\"Praha\", \"Brno\", \"Jihlava\", \"Ostrava\", \"Plzeň\"]\n",
    "\n",
    "\"Karviná\" in mesta\n",
    "\n",
    "print(mesta)\n",
    "mesta.sort()\n",
    "\n",
    "mesta.extend([\"Písek\",\"Vyškov\"])\n",
    "\n",
    "print(mesta)\n",
    "print(mesta[1::2])"
   ]
  }
 ],
 "metadata": {
  "kernelspec": {
   "display_name": "Python 3",
   "language": "python",
   "name": "python3"
  },
  "language_info": {
   "codemirror_mode": {
    "name": "ipython",
    "version": 3
   },
   "file_extension": ".py",
   "mimetype": "text/x-python",
   "name": "python",
   "nbconvert_exporter": "python",
   "pygments_lexer": "ipython3",
   "version": "3.12.2"
  }
 },
 "nbformat": 4,
 "nbformat_minor": 2
}
