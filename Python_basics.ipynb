{
 "cells": [
  {
   "cell_type": "markdown",
   "metadata": {},
   "source": [
    "Tak tady si budu psát své první kódy"
   ]
  },
  {
   "cell_type": "code",
   "execution_count": null,
   "metadata": {
    "vscode": {
     "languageId": "plaintext"
    }
   },
   "outputs": [],
   "source": [
    "jjmeno = input(\"Zadej jméno\")\n",
    "# tohle tam nedávej - type(jjmeno)\n",
    "# tohle tam nedávej - print (jjmeno)\n",
    "\n",
    "delka = len(jjmeno)\n",
    "#opět je tohle dost zbytečné - print(delka)\n",
    "\n",
    "if delka == 0:\n",
    "  print (\"jméno nezadáno\")\n",
    "elif delka < 5:\n",
    "  print (\"nemáš dost dlouhé jméno\")\n",
    "else:\n",
    "  print (f\"Ok, díky. Vaše zadané jméno je: {jjmeno}\")"
   ]
  }
 ],
 "metadata": {
  "language_info": {
   "name": "python"
  }
 },
 "nbformat": 4,
 "nbformat_minor": 2
}
